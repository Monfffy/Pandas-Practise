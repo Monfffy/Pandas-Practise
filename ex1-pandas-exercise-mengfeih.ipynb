{
 "cells": [
  {
   "cell_type": "markdown",
   "metadata": {},
   "source": [
    "### An exercise in cleaning data with Pandas\n",
    "\n",
    "#### You name: Mengfei Hu\n",
    "#### Your andrew ID: mengfeih"
   ]
  },
  {
   "cell_type": "markdown",
   "metadata": {},
   "source": [
    "Both Tue/Thu and Fri sections due:  2pm, Tuesday Jan 31 via Canvas.  \n",
    "\n",
    "Treat this as a take home quiz: you are welcome to pose general questions on piazza;  your work needs to be independently done (without assistance from others or the TAs).  \n",
    "\n",
    "This is a real formating problem I had to deal with once.  I'm using it as a simple exercise in pandas.\n",
    "\n",
    "Based on what we've discussed this past week, I estimate it may take about an hour max.  This exercise will be graded with the below rubric:\n",
    "\n",
    "- 2  : well done!  All requirements met\n",
    "- 1  : mostly correct\n",
    "- 0  : NB error, much remains to be done\n",
    "\n",
    "We'll discuss the solution in class; hence no flex days can be applied.\n",
    "\n",
    "---\n",
    "\n",
    "Examine the file `times.txt` in a text editor. I have provided segments from my NB that shows how the data frame is when initially read in and what the final form should be.\n",
    "\n",
    "In this exercise you will\n",
    "\n",
    "1.  Read the data into a dataframe.  [Explore options for `read_table` that will read the data in the format shown below.].\n",
    "\n",
    "2. Set column and row labels as shown further down in the NB\n",
    "\n",
    "3. Adjust the index as shown\n",
    "\n",
    "4. Create two additional columns `s_dt` and `e_dt` that represent `datetime` versions of the string data in `start` and `end`.\n",
    "\n",
    "5. Finally calculate the difference between the values in the `e_dt` column and the `s_dt` column\n",
    "\n",
    "Your final data frame should appear as shown in the very end of this notebook\n"
   ]
  },
  {
   "cell_type": "code",
   "execution_count": 1,
   "metadata": {
    "collapsed": true
   },
   "outputs": [],
   "source": [
    "import pandas as pd"
   ]
  },
  {
   "cell_type": "code",
   "execution_count": 2,
   "metadata": {
    "collapsed": false
   },
   "outputs": [
    {
     "data": {
      "text/html": [
       "<div>\n",
       "<table border=\"1\" class=\"dataframe\">\n",
       "  <thead>\n",
       "    <tr style=\"text-align: right;\">\n",
       "      <th></th>\n",
       "      <th>0</th>\n",
       "      <th>1</th>\n",
       "      <th>2</th>\n",
       "      <th>3</th>\n",
       "      <th>4</th>\n",
       "      <th>5</th>\n",
       "    </tr>\n",
       "  </thead>\n",
       "  <tbody>\n",
       "    <tr>\n",
       "      <th>0</th>\n",
       "      <td>9</td>\n",
       "      <td>January</td>\n",
       "      <td>(Monday)</td>\n",
       "      <td>17:06</td>\n",
       "      <td>to</td>\n",
       "      <td>20:02</td>\n",
       "    </tr>\n",
       "    <tr>\n",
       "      <th>1</th>\n",
       "      <td>24</td>\n",
       "      <td>January</td>\n",
       "      <td>(Tuesday)</td>\n",
       "      <td>17:23</td>\n",
       "      <td>to</td>\n",
       "      <td>20:15</td>\n",
       "    </tr>\n",
       "    <tr>\n",
       "      <th>2</th>\n",
       "      <td>8</td>\n",
       "      <td>February</td>\n",
       "      <td>(Wednesday)</td>\n",
       "      <td>17:42</td>\n",
       "      <td>to</td>\n",
       "      <td>20:27</td>\n",
       "    </tr>\n",
       "    <tr>\n",
       "      <th>3</th>\n",
       "      <td>23</td>\n",
       "      <td>February</td>\n",
       "      <td>(Thursday)</td>\n",
       "      <td>18:00</td>\n",
       "      <td>to</td>\n",
       "      <td>20:37</td>\n",
       "    </tr>\n",
       "    <tr>\n",
       "      <th>4</th>\n",
       "      <td>9</td>\n",
       "      <td>March</td>\n",
       "      <td>(Thursday)</td>\n",
       "      <td>18:16</td>\n",
       "      <td>to</td>\n",
       "      <td>20:45</td>\n",
       "    </tr>\n",
       "  </tbody>\n",
       "</table>\n",
       "</div>"
      ],
      "text/plain": [
       "    0         1            2      3   4      5\n",
       "0   9   January     (Monday)  17:06  to  20:02\n",
       "1  24   January    (Tuesday)  17:23  to  20:15\n",
       "2   8  February  (Wednesday)  17:42  to  20:27\n",
       "3  23  February   (Thursday)  18:00  to  20:37\n",
       "4   9     March   (Thursday)  18:16  to  20:45"
      ]
     },
     "execution_count": 2,
     "metadata": {},
     "output_type": "execute_result"
    }
   ],
   "source": [
    "df = pd.read_table('times.txt', sep='\\s+', engine='python',skiprows=3,skipfooter=0,names=[0,1,2,3,4,5])\n",
    "df.head()"
   ]
  },
  {
   "cell_type": "code",
   "execution_count": 3,
   "metadata": {
    "collapsed": false
   },
   "outputs": [
    {
     "data": {
      "text/plain": [
       "0     int64\n",
       "1    object\n",
       "2    object\n",
       "3    object\n",
       "4    object\n",
       "5    object\n",
       "dtype: object"
      ]
     },
     "execution_count": 3,
     "metadata": {},
     "output_type": "execute_result"
    }
   ],
   "source": [
    "df.dtypes"
   ]
  },
  {
   "cell_type": "code",
   "execution_count": 4,
   "metadata": {
    "collapsed": false
   },
   "outputs": [],
   "source": [
    "df = df.set_index(1)\n",
    "df = df.set_index(df.index.str[0:3])\n",
    "df.drop(4,axis=1,inplace=True)\n",
    "#df.head()"
   ]
  },
  {
   "cell_type": "code",
   "execution_count": 5,
   "metadata": {
    "collapsed": false
   },
   "outputs": [],
   "source": [
    "df.columns = ['day','dow','start','end']\n",
    "df['dow'] = df['dow'].str[1:4]\n",
    "#df.head()"
   ]
  },
  {
   "cell_type": "code",
   "execution_count": 8,
   "metadata": {
    "collapsed": false
   },
   "outputs": [
    {
     "data": {
      "text/html": [
       "<div>\n",
       "<table border=\"1\" class=\"dataframe\">\n",
       "  <thead>\n",
       "    <tr style=\"text-align: right;\">\n",
       "      <th></th>\n",
       "      <th>day</th>\n",
       "      <th>dow</th>\n",
       "      <th>start</th>\n",
       "      <th>end</th>\n",
       "      <th>s_dt</th>\n",
       "      <th>e_dt</th>\n",
       "    </tr>\n",
       "    <tr>\n",
       "      <th>1</th>\n",
       "      <th></th>\n",
       "      <th></th>\n",
       "      <th></th>\n",
       "      <th></th>\n",
       "      <th></th>\n",
       "      <th></th>\n",
       "    </tr>\n",
       "  </thead>\n",
       "  <tbody>\n",
       "    <tr>\n",
       "      <th>Jan</th>\n",
       "      <td>9</td>\n",
       "      <td>Mon</td>\n",
       "      <td>17:06</td>\n",
       "      <td>20:02</td>\n",
       "      <td>2017-01-29 17:06:00</td>\n",
       "      <td>2017-01-29 20:02:00</td>\n",
       "    </tr>\n",
       "    <tr>\n",
       "      <th>Jan</th>\n",
       "      <td>24</td>\n",
       "      <td>Tue</td>\n",
       "      <td>17:23</td>\n",
       "      <td>20:15</td>\n",
       "      <td>2017-01-29 17:23:00</td>\n",
       "      <td>2017-01-29 20:15:00</td>\n",
       "    </tr>\n",
       "    <tr>\n",
       "      <th>Feb</th>\n",
       "      <td>8</td>\n",
       "      <td>Wed</td>\n",
       "      <td>17:42</td>\n",
       "      <td>20:27</td>\n",
       "      <td>2017-01-29 17:42:00</td>\n",
       "      <td>2017-01-29 20:27:00</td>\n",
       "    </tr>\n",
       "    <tr>\n",
       "      <th>Feb</th>\n",
       "      <td>23</td>\n",
       "      <td>Thu</td>\n",
       "      <td>18:00</td>\n",
       "      <td>20:37</td>\n",
       "      <td>2017-01-29 18:00:00</td>\n",
       "      <td>2017-01-29 20:37:00</td>\n",
       "    </tr>\n",
       "    <tr>\n",
       "      <th>Mar</th>\n",
       "      <td>9</td>\n",
       "      <td>Thu</td>\n",
       "      <td>18:16</td>\n",
       "      <td>20:45</td>\n",
       "      <td>2017-01-29 18:16:00</td>\n",
       "      <td>2017-01-29 20:45:00</td>\n",
       "    </tr>\n",
       "  </tbody>\n",
       "</table>\n",
       "</div>"
      ],
      "text/plain": [
       "     day  dow  start    end                s_dt                e_dt\n",
       "1                                                                  \n",
       "Jan    9  Mon  17:06  20:02 2017-01-29 17:06:00 2017-01-29 20:02:00\n",
       "Jan   24  Tue  17:23  20:15 2017-01-29 17:23:00 2017-01-29 20:15:00\n",
       "Feb    8  Wed  17:42  20:27 2017-01-29 17:42:00 2017-01-29 20:27:00\n",
       "Feb   23  Thu  18:00  20:37 2017-01-29 18:00:00 2017-01-29 20:37:00\n",
       "Mar    9  Thu  18:16  20:45 2017-01-29 18:16:00 2017-01-29 20:45:00"
      ]
     },
     "execution_count": 8,
     "metadata": {},
     "output_type": "execute_result"
    }
   ],
   "source": [
    "# You need to figure out how to convert a pandas columns of strings into\n",
    "# Python 'datetime' objects. You will then store these converted values\n",
    "# in a temporate column as show below.\n",
    "\n",
    "df['s_dt']= pd.to_datetime(df['start'])\n",
    "df['e_dt']= pd.to_datetime(df['end'])\n",
    "df.head()"
   ]
  },
  {
   "cell_type": "code",
   "execution_count": 9,
   "metadata": {
    "collapsed": false
   },
   "outputs": [
    {
     "data": {
      "text/plain": [
       "day               int64\n",
       "dow              object\n",
       "start            object\n",
       "end              object\n",
       "s_dt     datetime64[ns]\n",
       "e_dt     datetime64[ns]\n",
       "dtype: object"
      ]
     },
     "execution_count": 9,
     "metadata": {},
     "output_type": "execute_result"
    }
   ],
   "source": [
    "df.dtypes"
   ]
  },
  {
   "cell_type": "code",
   "execution_count": 10,
   "metadata": {
    "collapsed": false,
    "scrolled": true
   },
   "outputs": [
    {
     "data": {
      "text/html": [
       "<div>\n",
       "<table border=\"1\" class=\"dataframe\">\n",
       "  <thead>\n",
       "    <tr style=\"text-align: right;\">\n",
       "      <th></th>\n",
       "      <th>day</th>\n",
       "      <th>dow</th>\n",
       "      <th>start</th>\n",
       "      <th>end</th>\n",
       "      <th>s_dt</th>\n",
       "      <th>e_dt</th>\n",
       "      <th>diff</th>\n",
       "    </tr>\n",
       "    <tr>\n",
       "      <th>1</th>\n",
       "      <th></th>\n",
       "      <th></th>\n",
       "      <th></th>\n",
       "      <th></th>\n",
       "      <th></th>\n",
       "      <th></th>\n",
       "      <th></th>\n",
       "    </tr>\n",
       "  </thead>\n",
       "  <tbody>\n",
       "    <tr>\n",
       "      <th>Jan</th>\n",
       "      <td>9</td>\n",
       "      <td>Mon</td>\n",
       "      <td>17:06</td>\n",
       "      <td>20:02</td>\n",
       "      <td>2017-01-29 17:06:00</td>\n",
       "      <td>2017-01-29 20:02:00</td>\n",
       "      <td>02:56:00</td>\n",
       "    </tr>\n",
       "    <tr>\n",
       "      <th>Jan</th>\n",
       "      <td>24</td>\n",
       "      <td>Tue</td>\n",
       "      <td>17:23</td>\n",
       "      <td>20:15</td>\n",
       "      <td>2017-01-29 17:23:00</td>\n",
       "      <td>2017-01-29 20:15:00</td>\n",
       "      <td>02:52:00</td>\n",
       "    </tr>\n",
       "    <tr>\n",
       "      <th>Feb</th>\n",
       "      <td>8</td>\n",
       "      <td>Wed</td>\n",
       "      <td>17:42</td>\n",
       "      <td>20:27</td>\n",
       "      <td>2017-01-29 17:42:00</td>\n",
       "      <td>2017-01-29 20:27:00</td>\n",
       "      <td>02:45:00</td>\n",
       "    </tr>\n",
       "    <tr>\n",
       "      <th>Feb</th>\n",
       "      <td>23</td>\n",
       "      <td>Thu</td>\n",
       "      <td>18:00</td>\n",
       "      <td>20:37</td>\n",
       "      <td>2017-01-29 18:00:00</td>\n",
       "      <td>2017-01-29 20:37:00</td>\n",
       "      <td>02:37:00</td>\n",
       "    </tr>\n",
       "    <tr>\n",
       "      <th>Mar</th>\n",
       "      <td>9</td>\n",
       "      <td>Thu</td>\n",
       "      <td>18:16</td>\n",
       "      <td>20:45</td>\n",
       "      <td>2017-01-29 18:16:00</td>\n",
       "      <td>2017-01-29 20:45:00</td>\n",
       "      <td>02:29:00</td>\n",
       "    </tr>\n",
       "  </tbody>\n",
       "</table>\n",
       "</div>"
      ],
      "text/plain": [
       "     day  dow  start    end                s_dt                e_dt     diff\n",
       "1                                                                           \n",
       "Jan    9  Mon  17:06  20:02 2017-01-29 17:06:00 2017-01-29 20:02:00 02:56:00\n",
       "Jan   24  Tue  17:23  20:15 2017-01-29 17:23:00 2017-01-29 20:15:00 02:52:00\n",
       "Feb    8  Wed  17:42  20:27 2017-01-29 17:42:00 2017-01-29 20:27:00 02:45:00\n",
       "Feb   23  Thu  18:00  20:37 2017-01-29 18:00:00 2017-01-29 20:37:00 02:37:00\n",
       "Mar    9  Thu  18:16  20:45 2017-01-29 18:16:00 2017-01-29 20:45:00 02:29:00"
      ]
     },
     "execution_count": 10,
     "metadata": {},
     "output_type": "execute_result"
    }
   ],
   "source": [
    "# Finally calculate the differences between the e_dt and s_dt columns\n",
    "\n",
    "#pd.to_timedelta(df['e_dt'] - df['s_dt'])\n",
    "df['diff']=pd.to_timedelta(df['e_dt'] - df['s_dt'])\n",
    "df.head()"
   ]
  },
  {
   "cell_type": "code",
   "execution_count": 11,
   "metadata": {
    "collapsed": false,
    "scrolled": true
   },
   "outputs": [
    {
     "data": {
      "text/plain": [
       "day                int64\n",
       "dow               object\n",
       "start             object\n",
       "end               object\n",
       "s_dt      datetime64[ns]\n",
       "e_dt      datetime64[ns]\n",
       "diff     timedelta64[ns]\n",
       "dtype: object"
      ]
     },
     "execution_count": 11,
     "metadata": {},
     "output_type": "execute_result"
    }
   ],
   "source": [
    "df.dtypes"
   ]
  },
  {
   "cell_type": "code",
   "execution_count": null,
   "metadata": {
    "collapsed": true
   },
   "outputs": [],
   "source": []
  }
 ],
 "metadata": {
  "kernelspec": {
   "display_name": "Python 3",
   "language": "python",
   "name": "python3"
  },
  "language_info": {
   "codemirror_mode": {
    "name": "ipython",
    "version": 3
   },
   "file_extension": ".py",
   "mimetype": "text/x-python",
   "name": "python",
   "nbconvert_exporter": "python",
   "pygments_lexer": "ipython3",
   "version": "3.5.2"
  }
 },
 "nbformat": 4,
 "nbformat_minor": 0
}
